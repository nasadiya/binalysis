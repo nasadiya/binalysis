{
 "cells": [
  {
   "cell_type": "code",
   "execution_count": 2,
   "id": "3a980174",
   "metadata": {},
   "outputs": [],
   "source": [
    "from src.data_process.hist_data_process import aggregate_symbols, COLUMNS_KLINES"
   ]
  },
  {
   "cell_type": "code",
   "execution_count": 6,
   "id": "6cf0f9c2",
   "metadata": {},
   "outputs": [
    {
     "name": "stdout",
     "output_type": "stream",
     "text": [
      " Processing symbol : BTCUSDT \n",
      "\n",
      "     Processing file: BTCUSDT-1m-2022-01.zip \n",
      "\n",
      "     Processing file: BTCUSDT-1m-2022-02.zip \n",
      "\n",
      "     Processing file: BTCUSDT-1m-2022-03.zip \n",
      "\n",
      "     Processing file: BTCUSDT-1m-2022-04.zip \n",
      "\n",
      "     Processing file: BTCUSDT-1m-2022-05.zip \n",
      "\n",
      "     Processing file: BTCUSDT-1m-2022-06.zip \n",
      "\n",
      "     Processing file: BTCUSDT-1m-2022-07.zip \n",
      "\n",
      "     Processing file: BTCUSDT-1m-2022-08.zip \n",
      "\n",
      "     Processing file: BTCUSDT-1m-2022-09.zip \n",
      "\n"
     ]
    }
   ],
   "source": [
    "data, cols = aggregate_symbols(symbols=['BTCUSDT'], cols=['Open time', 'Open', 'Close', 'High', 'Low'])"
   ]
  },
  {
   "cell_type": "code",
   "execution_count": 7,
   "id": "fc4d0535",
   "metadata": {},
   "outputs": [
    {
     "data": {
      "text/plain": [
       "['Open time',\n",
       " 'BTCUSDT_Open time',\n",
       " 'BTCUSDT_Open',\n",
       " 'BTCUSDT_Close',\n",
       " 'BTCUSDT_High',\n",
       " 'BTCUSDT_Low']"
      ]
     },
     "execution_count": 7,
     "metadata": {},
     "output_type": "execute_result"
    }
   ],
   "source": [
    "2"
   ]
  }
 ],
 "metadata": {
  "kernelspec": {
   "display_name": "Python 3 (ipykernel)",
   "language": "python",
   "name": "python3"
  },
  "language_info": {
   "codemirror_mode": {
    "name": "ipython",
    "version": 3
   },
   "file_extension": ".py",
   "mimetype": "text/x-python",
   "name": "python",
   "nbconvert_exporter": "python",
   "pygments_lexer": "ipython3",
   "version": "3.9.7"
  }
 },
 "nbformat": 4,
 "nbformat_minor": 5
}
